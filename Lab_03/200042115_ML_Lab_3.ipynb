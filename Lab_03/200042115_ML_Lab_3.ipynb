{
  "nbformat": 4,
  "nbformat_minor": 0,
  "metadata": {
    "colab": {
      "provenance": []
    },
    "kernelspec": {
      "name": "python3",
      "display_name": "Python 3"
    },
    "language_info": {
      "name": "python"
    }
  },
  "cells": [
    {
      "cell_type": "markdown",
      "source": [
        "# Task 4.1\n",
        "\n",
        "Load the dataset. Explore the dataset using pandas methods such as head(), info(), and describe()."
      ],
      "metadata": {
        "id": "hZiLzxRsGMHC"
      }
    },
    {
      "cell_type": "code",
      "execution_count": null,
      "metadata": {
        "colab": {
          "base_uri": "https://localhost:8080/"
        },
        "id": "rQXLeLPcFKSB",
        "outputId": "c809001e-a553-40a0-e100-4d7392394d1b"
      },
      "outputs": [
        {
          "output_type": "stream",
          "name": "stdout",
          "text": [
            "       pelvic_incidence  pelvic_tilt numeric  lumbar_lordosis_angle  \\\n",
            "count        310.000000           310.000000             310.000000   \n",
            "mean          60.496653            17.542822              51.930930   \n",
            "std           17.236520            10.008330              18.554064   \n",
            "min           26.147921            -6.554948              14.000000   \n",
            "25%           46.430294            10.667069              37.000000   \n",
            "50%           58.691038            16.357689              49.562398   \n",
            "75%           72.877696            22.120395              63.000000   \n",
            "max          129.834041            49.431864             125.742385   \n",
            "\n",
            "       sacral_slope  pelvic_radius  degree_spondylolisthesis  \n",
            "count    310.000000     310.000000                310.000000  \n",
            "mean      42.953831     117.920655                 26.296694  \n",
            "std       13.423102      13.317377                 37.559027  \n",
            "min       13.366931      70.082575                -11.058179  \n",
            "25%       33.347122     110.709196                  1.603727  \n",
            "50%       42.404912     118.268178                 11.767934  \n",
            "75%       52.695888     125.467674                 41.287352  \n",
            "max      121.429566     163.071041                418.543082  \n",
            "\n",
            "   pelvic_incidence  pelvic_tilt numeric  lumbar_lordosis_angle  sacral_slope  \\\n",
            "0         63.027817            22.552586              39.609117     40.475232   \n",
            "1         39.056951            10.060991              25.015378     28.995960   \n",
            "2         68.832021            22.218482              50.092194     46.613539   \n",
            "3         69.297008            24.652878              44.311238     44.644130   \n",
            "4         49.712859             9.652075              28.317406     40.060784   \n",
            "\n",
            "   pelvic_radius  degree_spondylolisthesis     class  \n",
            "0      98.672917                 -0.254400  Abnormal  \n",
            "1     114.405425                  4.564259  Abnormal  \n",
            "2     105.985135                 -3.530317  Abnormal  \n",
            "3     101.868495                 11.211523  Abnormal  \n",
            "4     108.168725                  7.918501  Abnormal  \n",
            "\n",
            "<class 'pandas.core.frame.DataFrame'>\n",
            "RangeIndex: 310 entries, 0 to 309\n",
            "Data columns (total 7 columns):\n",
            " #   Column                    Non-Null Count  Dtype  \n",
            "---  ------                    --------------  -----  \n",
            " 0   pelvic_incidence          310 non-null    float64\n",
            " 1   pelvic_tilt numeric       310 non-null    float64\n",
            " 2   lumbar_lordosis_angle     310 non-null    float64\n",
            " 3   sacral_slope              310 non-null    float64\n",
            " 4   pelvic_radius             310 non-null    float64\n",
            " 5   degree_spondylolisthesis  310 non-null    float64\n",
            " 6   class                     310 non-null    object \n",
            "dtypes: float64(6), object(1)\n",
            "memory usage: 17.1+ KB\n",
            "None\n",
            "Index(['pelvic_incidence', 'pelvic_tilt numeric', 'lumbar_lordosis_angle',\n",
            "       'sacral_slope', 'pelvic_radius', 'degree_spondylolisthesis', 'class'],\n",
            "      dtype='object')\n"
          ]
        }
      ],
      "source": [
        "import pandas as pd\n",
        "\n",
        "dataset = pd.read_csv(\"/content/column_2C_weka.csv\", delimiter=',')\n",
        "print(dataset.describe())\n",
        "print()\n",
        "print(dataset.head(5))\n",
        "print()\n",
        "print(dataset.info())\n",
        "\n",
        "column_names = dataset.columns\n",
        "\n",
        "print(column_names)"
      ]
    },
    {
      "cell_type": "markdown",
      "source": [
        "# Task 4.2\n",
        "\n",
        "Import the necessary libraries"
      ],
      "metadata": {
        "id": "0h3DnXhjHLcx"
      }
    },
    {
      "cell_type": "code",
      "source": [
        "# For data creation and other tasks\n",
        "import numpy as np\n",
        "import random\n",
        "import pandas as pd\n",
        "\n",
        "## Mertics to evaluate the models\n",
        "from sklearn . metrics import accuracy_score # for Logistic Regression\n",
        "\n",
        "# For plotting the graphs\n",
        "import matplotlib . pyplot as plt\n",
        "%matplotlib inline\n",
        "import seaborn as sns\n",
        "\n",
        "# For spliting the data into 80:20 ratio\n",
        "from sklearn . model_selection import train_test_split\n",
        "from sklearn.preprocessing import MinMaxScaler"
      ],
      "metadata": {
        "id": "6tYeTKlZG5G7"
      },
      "execution_count": null,
      "outputs": []
    },
    {
      "cell_type": "markdown",
      "source": [
        "# Task 4.3\n",
        "\n",
        "Initialize weights and bias as 0:"
      ],
      "metadata": {
        "id": "u0oj5eWvIKyo"
      }
    },
    {
      "cell_type": "code",
      "source": [
        "def weightInitialization(num_features):\n",
        "    # w = np.full((num_features, 1), 2)\n",
        "    w = np.zeros((num_features, 1))\n",
        "    b = 0.0\n",
        "    return w, b\n",
        "\n",
        "num_features = dataset.shape[1]-1  # excluding the last column: which is the label (not a feature, rather a class)\n",
        "\n",
        "w, b = weightInitialization(num_features)   # Initialize weights and bias\n",
        "\n",
        "print(w)\n",
        "print(b)"
      ],
      "metadata": {
        "id": "cjw4OhyGISyq",
        "colab": {
          "base_uri": "https://localhost:8080/"
        },
        "outputId": "26495a84-75d1-4fd3-f2c7-c062805e6e93"
      },
      "execution_count": null,
      "outputs": [
        {
          "output_type": "stream",
          "name": "stdout",
          "text": [
            "[[0.]\n",
            " [0.]\n",
            " [0.]\n",
            " [0.]\n",
            " [0.]\n",
            " [0.]]\n",
            "0.0\n"
          ]
        }
      ]
    },
    {
      "cell_type": "markdown",
      "source": [
        "# Task 4.4\n",
        "\n",
        "Sigmoid Function:"
      ],
      "metadata": {
        "id": "__ODXAtYLcT5"
      }
    },
    {
      "cell_type": "code",
      "source": [
        "# The sigmoid activation\n",
        "def sigmoid_activation(z):\n",
        "    y = 1 / (1 + np.exp(-z))\n",
        "    return y"
      ],
      "metadata": {
        "id": "eEd_z-ifLjTS"
      },
      "execution_count": null,
      "outputs": []
    },
    {
      "cell_type": "markdown",
      "source": [
        "# Task 4.5\n",
        "\n",
        "Model Optimization Function:"
      ],
      "metadata": {
        "id": "tZjt1BFARDgo"
      }
    },
    {
      "cell_type": "code",
      "source": [
        "def model_optimize(w, b, X, Y):\n",
        "    # 1. Get the number of data points (number of samples)\n",
        "    m = X.shape[1]\n",
        "\n",
        "    z = np.dot(w.T, X) + b\n",
        "\n",
        "    # 2. Get the prediction (activation) by applying the sigmoid function\n",
        "    A = sigmoid_activation(z)\n",
        "\n",
        "    # 3. Calculate the cost (loss) using the cross-entropy loss for logistic regression\n",
        "    cost = -1/m * np.sum(Y * np.log(A) + (1 - Y) * np.log(1 - A))\n",
        "\n",
        "    # 4. Calculate the gradients (derivatives) of the cost with respect to weights and bias\n",
        "    dw = 1/m * np.dot(X, (A - Y).T)\n",
        "    db = 1/m * np.sum(A - Y)\n",
        "\n",
        "    # Create a dictionary to store gradients and cost\n",
        "    grads = {\"dw\": dw, \"db\": db}\n",
        "\n",
        "    return grads, cost\n",
        "\n",
        "\n",
        "# # Call the model_optimize function\n",
        "# grads, cost = model_optimize(w, b, X, y)\n",
        "\n",
        "# # Print the results\n",
        "# print(\"Gradients (dw):\", grads[\"dw\"])\n",
        "# print(\"Gradient (db):\", grads[\"db\"])\n",
        "# print(\"Cost:\", cost)\n"
      ],
      "metadata": {
        "id": "AQWL4QQ-N6fq"
      },
      "execution_count": null,
      "outputs": []
    },
    {
      "cell_type": "markdown",
      "source": [
        "# Task 4.6\n",
        "\n",
        "Model Optimization: Run the optimization function for a given number of epochs and get the final weights along with a list of cost for each epoch"
      ],
      "metadata": {
        "id": "WprrkdVOWWxL"
      }
    },
    {
      "cell_type": "code",
      "source": [
        "def model_fit(w, b, X, Y, learning_rate, no_iterations):\n",
        "    costs = []\n",
        "    for i in range(no_iterations):\n",
        "        grads, cost = model_optimize(w, b, X, Y)\n",
        "        dw = grads[\"dw\"]\n",
        "        db = grads[\"db\"]\n",
        "\n",
        "        # Update the weights using gradient descent\n",
        "        w = w - learning_rate * dw\n",
        "        b = b - learning_rate * db\n",
        "\n",
        "        if (i % 10 == 0):\n",
        "            costs.append(cost)\n",
        "            # Print the cost if needed: print(\"Cost after %i iteration is %f\" % (i, cost))\n",
        "\n",
        "    # Final parameters (weights and bias)\n",
        "    coeff = {\"w\": w, \"b\": b}\n",
        "    return coeff, costs\n",
        "\n",
        "# # Define initial values\n",
        "# learning_rate = 0.01\n",
        "# no_iterations = 100\n",
        "\n",
        "# # Call the model_fit function\n",
        "# coeff, costs = model_fit(w, b, X_T, y, learning_rate, no_iterations)\n",
        "\n",
        "# # Print the final weights and bias\n",
        "# print(\"Final Weights (w):\", coeff[\"w\"])\n",
        "# print(\"Final Bias (b):\", coeff[\"b\"])\n",
        "\n"
      ],
      "metadata": {
        "id": "GhrzKOZEWfaN"
      },
      "execution_count": null,
      "outputs": []
    },
    {
      "cell_type": "markdown",
      "source": [
        "# Task 4.7\n",
        "\n",
        "Use logistic regression for the dataset"
      ],
      "metadata": {
        "id": "_6715gvdYBz6"
      }
    },
    {
      "cell_type": "code",
      "source": [
        "# Extract features (X) and labels (y)\n",
        "X = dataset.iloc[:, :-1]  # Select all columns except the last one as features\n",
        "y = dataset.iloc[:, -1].map({\"Normal\": 0, \"Abnormal\": 1})  # Select the last column as the label\n",
        "\n",
        "# Convert X and Y to a NumPy array\n",
        "X = X.values\n",
        "y = y.values\n",
        "\n",
        "# Normalize\n",
        "scaler = MinMaxScaler()\n",
        "X = scaler.fit_transform(X)\n",
        "\n",
        "# Step 1: Split the data into training and testing sets\n",
        "X_train, X_test, y_train, y_test = train_test_split(X, y, test_size=0.3, random_state=42)\n",
        "y_train = y_train.reshape(1, -1)\n",
        "y_test = y_test.reshape(1, -1)\n",
        "\n",
        "# Step 2: Model Training\n",
        "num_features = X_train.shape[1]  # Number of features\n",
        "w, b = weightInitialization(num_features)  # Initialize weights and bias\n",
        "learning_rate = 0.01  # Set your learning rate\n",
        "no_iterations = 1000  # Set the number of iterations\n",
        "\n",
        "coeff, costs = model_fit(w, b, X_train.T, y_train, learning_rate, no_iterations)\n",
        "\n",
        "# Step 3: Get Predictions for the test dataset\n",
        "w_optimized = coeff[\"w\"]\n",
        "b_optimized = coeff[\"b\"]\n",
        "\n",
        "# Predict using the optimized weights and bias\n",
        "z = np.dot(w_optimized.T, X_test.T) + b_optimized        # computing z\n",
        "final_test_pred = sigmoid_activation(z)     # Use the computed 'z' values\n",
        "\n",
        "final_test_pred = (final_test_pred > 0.5).astype(int)\n",
        "\n",
        "# Step 4: Calculate Accuracy\n",
        "accuracy = accuracy_score(y_test.T, final_test_pred.T)\n",
        "print(\"Test Accuracy:\", accuracy * 100, \"%\")"
      ],
      "metadata": {
        "colab": {
          "base_uri": "https://localhost:8080/"
        },
        "id": "p7qhxUsQYJx_",
        "outputId": "f656ac47-a639-455a-ca60-20da279c6e2f"
      },
      "execution_count": null,
      "outputs": [
        {
          "output_type": "stream",
          "name": "stdout",
          "text": [
            "Test Accuracy: 74.19354838709677 %\n"
          ]
        }
      ]
    },
    {
      "cell_type": "markdown",
      "source": [
        "# Task 4.8\n",
        "Plot the cost for each epoch: Use the costs list to plot the cost vs. epoch curve."
      ],
      "metadata": {
        "id": "BC8eThZcqoxi"
      }
    },
    {
      "cell_type": "code",
      "source": [
        "# Create a list of epoch numbers\n",
        "epochs = list(range(0, len(costs) * 10, 10))\n",
        "\n",
        "# Plot the cost vs. epoch curve\n",
        "plt.figure(figsize=(8, 6))\n",
        "plt.plot(epochs, costs, marker='o', linestyle='-')\n",
        "plt.title('Cost vs. Epoch')\n",
        "plt.xlabel('Epoch')\n",
        "plt.ylabel('Cost')\n",
        "plt.grid(True)\n",
        "plt.show()\n"
      ],
      "metadata": {
        "id": "uHgaKbdjyvgo",
        "colab": {
          "base_uri": "https://localhost:8080/",
          "height": 564
        },
        "outputId": "52436da0-a863-4960-a4c8-ba523164fd96"
      },
      "execution_count": null,
      "outputs": [
        {
          "output_type": "display_data",
          "data": {
            "text/plain": [
              "<Figure size 800x600 with 1 Axes>"
            ],
            "image/png": "[encoded data removed]"
          },
          "metadata": {}
        }
      ]
    },
    {
      "cell_type": "markdown",
      "source": [
        "# Task 4.9\n",
        "Use smaller portion of training data: Show how the accuracy of the test dataset changes when you use 10%, 20%, and so on of the training dataset."
      ],
      "metadata": {
        "id": "q1aXan9IvBqm"
      }
    },
    {
      "cell_type": "code",
      "source": [
        "# Step 1: Split the data into training and testing sets\n",
        "for test_size in range(1, 100):\n",
        "    X_train, X_test, y_train, y_test = train_test_split(X, y, test_size=test_size/100, random_state=42)\n",
        "    y_train = y_train.reshape(1, -1)\n",
        "    y_test = y_test.reshape(1, -1)\n",
        "\n",
        "    # Step 2: Model Training\n",
        "    num_features = X_train.shape[1]  # Number of features\n",
        "    w, b = weightInitialization(num_features)  # Initialize weights and bias\n",
        "    learning_rate = 0.01  # Set your learning rate\n",
        "    no_iterations = 1000  # Set the number of iterations\n",
        "\n",
        "    coeff, costs = model_fit(w, b, X_train.T, y_train, learning_rate, no_iterations)\n",
        "\n",
        "    # Step 3: Get Predictions for the test dataset\n",
        "    w_optimized = coeff[\"w\"]\n",
        "    b_optimized = coeff[\"b\"]\n",
        "\n",
        "    # Predict using the optimized weights and bias\n",
        "    z = np.dot(w_optimized.T, X_test.T) + b_optimized        # computing z\n",
        "    final_test_pred = sigmoid_activation(z)     # Use the computed 'z' values\n",
        "\n",
        "    final_test_pred = (final_test_pred > 0.5).astype(int)\n",
        "\n",
        "    # Step 4: Calculate Accuracy\n",
        "    accuracy = accuracy_score(y_test.T, final_test_pred.T)\n",
        "\n",
        "    # Print the accuracy score for the current test_size\n",
        "    print(f\"Test Accuracy for test_size={test_size}%: {accuracy * 100:.2f}%\")\n"
      ],
      "metadata": {
        "colab": {
          "base_uri": "https://localhost:8080/"
        },
        "id": "uqSzq8hjvKer",
        "outputId": "02b2eb23-e9b0-4191-af48-a8d0364a88e4"
      },
      "execution_count": null,
      "outputs": [
        {
          "output_type": "stream",
          "name": "stdout",
          "text": [
            "Test Accuracy for test_size=1%: 75.00%\n",
            "Test Accuracy for test_size=2%: 85.71%\n",
            "Test Accuracy for test_size=3%: 80.00%\n",
            "Test Accuracy for test_size=4%: 76.92%\n",
            "Test Accuracy for test_size=5%: 62.50%\n",
            "Test Accuracy for test_size=6%: 68.42%\n",
            "Test Accuracy for test_size=7%: 72.73%\n",
            "Test Accuracy for test_size=8%: 76.00%\n",
            "Test Accuracy for test_size=9%: 78.57%\n",
            "Test Accuracy for test_size=10%: 74.19%\n",
            "Test Accuracy for test_size=11%: 74.29%\n",
            "Test Accuracy for test_size=12%: 76.32%\n",
            "Test Accuracy for test_size=13%: 78.05%\n",
            "Test Accuracy for test_size=14%: 77.27%\n",
            "Test Accuracy for test_size=15%: 74.47%\n",
            "Test Accuracy for test_size=16%: 74.00%\n",
            "Test Accuracy for test_size=17%: 73.58%\n",
            "Test Accuracy for test_size=18%: 73.21%\n",
            "Test Accuracy for test_size=19%: 72.88%\n",
            "Test Accuracy for test_size=20%: 70.97%\n",
            "Test Accuracy for test_size=21%: 69.70%\n",
            "Test Accuracy for test_size=22%: 71.01%\n",
            "Test Accuracy for test_size=23%: 72.22%\n",
            "Test Accuracy for test_size=24%: 73.33%\n",
            "Test Accuracy for test_size=25%: 73.08%\n",
            "Test Accuracy for test_size=26%: 72.84%\n",
            "Test Accuracy for test_size=27%: 73.81%\n",
            "Test Accuracy for test_size=28%: 73.56%\n",
            "Test Accuracy for test_size=29%: 73.33%\n",
            "Test Accuracy for test_size=30%: 74.19%\n",
            "Test Accuracy for test_size=31%: 73.20%\n",
            "Test Accuracy for test_size=32%: 72.00%\n",
            "Test Accuracy for test_size=33%: 71.84%\n",
            "Test Accuracy for test_size=34%: 72.64%\n",
            "Test Accuracy for test_size=35%: 72.48%\n",
            "Test Accuracy for test_size=36%: 73.21%\n",
            "Test Accuracy for test_size=37%: 73.04%\n",
            "Test Accuracy for test_size=38%: 72.88%\n",
            "Test Accuracy for test_size=39%: 73.55%\n",
            "Test Accuracy for test_size=40%: 73.39%\n",
            "Test Accuracy for test_size=41%: 72.66%\n",
            "Test Accuracy for test_size=42%: 72.52%\n",
            "Test Accuracy for test_size=43%: 71.64%\n",
            "Test Accuracy for test_size=44%: 71.53%\n",
            "Test Accuracy for test_size=45%: 72.14%\n",
            "Test Accuracy for test_size=46%: 71.33%\n",
            "Test Accuracy for test_size=47%: 70.55%\n",
            "Test Accuracy for test_size=48%: 71.14%\n",
            "Test Accuracy for test_size=49%: 71.05%\n",
            "Test Accuracy for test_size=50%: 70.97%\n",
            "Test Accuracy for test_size=51%: 71.07%\n",
            "Test Accuracy for test_size=52%: 70.99%\n",
            "Test Accuracy for test_size=53%: 70.30%\n",
            "Test Accuracy for test_size=54%: 70.24%\n",
            "Test Accuracy for test_size=55%: 70.76%\n",
            "Test Accuracy for test_size=56%: 71.26%\n",
            "Test Accuracy for test_size=57%: 71.19%\n",
            "Test Accuracy for test_size=58%: 71.11%\n",
            "Test Accuracy for test_size=59%: 71.04%\n",
            "Test Accuracy for test_size=60%: 70.97%\n",
            "Test Accuracy for test_size=61%: 70.53%\n",
            "Test Accuracy for test_size=62%: 69.95%\n",
            "Test Accuracy for test_size=63%: 69.90%\n",
            "Test Accuracy for test_size=64%: 70.35%\n",
            "Test Accuracy for test_size=65%: 70.79%\n",
            "Test Accuracy for test_size=66%: 69.76%\n",
            "Test Accuracy for test_size=67%: 69.71%\n",
            "Test Accuracy for test_size=68%: 69.19%\n",
            "Test Accuracy for test_size=69%: 69.63%\n",
            "Test Accuracy for test_size=70%: 69.12%\n",
            "Test Accuracy for test_size=71%: 68.78%\n",
            "Test Accuracy for test_size=72%: 68.75%\n",
            "Test Accuracy for test_size=73%: 68.72%\n",
            "Test Accuracy for test_size=74%: 68.70%\n",
            "Test Accuracy for test_size=75%: 69.10%\n",
            "Test Accuracy for test_size=76%: 68.64%\n",
            "Test Accuracy for test_size=77%: 68.62%\n",
            "Test Accuracy for test_size=78%: 68.60%\n",
            "Test Accuracy for test_size=79%: 68.16%\n",
            "Test Accuracy for test_size=80%: 67.74%\n",
            "Test Accuracy for test_size=81%: 67.86%\n",
            "Test Accuracy for test_size=82%: 67.45%\n",
            "Test Accuracy for test_size=83%: 67.44%\n",
            "Test Accuracy for test_size=84%: 67.82%\n",
            "Test Accuracy for test_size=85%: 68.18%\n",
            "Test Accuracy for test_size=86%: 68.16%\n",
            "Test Accuracy for test_size=87%: 68.15%\n",
            "Test Accuracy for test_size=88%: 68.13%\n",
            "Test Accuracy for test_size=89%: 67.75%\n",
            "Test Accuracy for test_size=90%: 67.38%\n",
            "Test Accuracy for test_size=91%: 67.84%\n",
            "Test Accuracy for test_size=92%: 67.83%\n",
            "Test Accuracy for test_size=93%: 67.82%\n",
            "Test Accuracy for test_size=94%: 67.81%\n",
            "Test Accuracy for test_size=95%: 67.46%\n",
            "Test Accuracy for test_size=96%: 67.45%\n",
            "Test Accuracy for test_size=97%: 67.77%\n",
            "Test Accuracy for test_size=98%: 67.43%\n",
            "Test Accuracy for test_size=99%: 67.75%\n"
          ]
        }
      ]
    },
    {
      "cell_type": "markdown",
      "source": [
        "# Task 4.10\n",
        "L1 L2 Regularization: Adapt the function model_optimize to include regularization."
      ],
      "metadata": {
        "id": "d0CB5a8hviiD"
      }
    },
    {
      "cell_type": "code",
      "source": [
        "def model_optimize_with_regularization(w, b, X, Y, reg=None, lambda_reg=0.1):\n",
        "    # 1. Get the number of data points (number of samples)\n",
        "    m = X.shape[1]\n",
        "\n",
        "    z = np.dot(w.T, X) + b        # computing z\n",
        "\n",
        "    # 2. Get the prediction (activation) by applying the sigmoid function\n",
        "    A = sigmoid_activation(z)\n",
        "\n",
        "    # 3. Calculate the cost (loss) depending on the regularization type (reg)\n",
        "    if reg == \"L1\":\n",
        "        cost = -1/m * np.sum(Y * np.log(A) + (1 - Y) * np.log(1 - A)) + lambda_reg/(2*m) * np.sum(np.abs(w))\n",
        "    elif reg == \"L2\":\n",
        "        cost = -1/m * np.sum(Y * np.log(A) + (1 - Y) * np.log(1 - A)) + lambda_reg/(2*m) * np.sum(w**2)\n",
        "    else:\n",
        "        cost = -(1/m) * np.sum(Y * np.log(A) + (1 - Y) * np.log(1 - A))\n",
        "\n",
        "    # 4. Calculate the gradients (derivatives) of the cost with respect to weights and bias\n",
        "    dw = 1/m * np.dot(X, (A - Y).T)\n",
        "    db = 1/m * np.sum(A - Y)\n",
        "\n",
        "    # Apply regularization to gradients if necessary\n",
        "    if reg == \"L1\":\n",
        "        dw += (lambda_reg / m) * np.sign(w)\n",
        "    elif reg == \"L2\":\n",
        "        dw += (lambda_reg / m) * w\n",
        "\n",
        "    # Create a dictionary to store gradients and cost\n",
        "    grads = {\"dw\": dw, \"db\": db}\n",
        "\n",
        "    return grads, cost\n"
      ],
      "metadata": {
        "id": "XgiIGr5xvjCB"
      },
      "execution_count": null,
      "outputs": []
    },
    {
      "cell_type": "markdown",
      "source": [
        "# Task 4.11\n",
        "Accuracy change with regularization :\n",
        "\n",
        "Train the model for different epochs, different regularization (none, L1, L2) and different regularization coefficient values then show the test accuracies found in a table."
      ],
      "metadata": {
        "id": "QP61I1XUwG9U"
      }
    },
    {
      "cell_type": "code",
      "source": [
        "def model_fit_with_regularization(w, b, X, Y, reg, lambda_reg, no_iterations):\n",
        "    costs = []\n",
        "\n",
        "    for i in range(no_iterations):\n",
        "        grads, cost = model_optimize_with_regularization(w, b, X, Y, reg, lambda_reg)\n",
        "        dw = grads[\"dw\"]\n",
        "        db = grads[\"db\"]\n",
        "\n",
        "        w = w - learning_rate * dw\n",
        "        b = b - learning_rate * db\n",
        "\n",
        "        if i % 10 == 0:\n",
        "            costs.append(cost)\n",
        "\n",
        "    coeff = {\"w\": w, \"b\": b}\n",
        "\n",
        "    return coeff, costs\n",
        "\n",
        "# Define a range of regularization coefficient values\n",
        "lambda_values = [0.001, 0.01, 0.1, 1.0]\n",
        "\n",
        "# Define a range of iteration values\n",
        "iteration_values = [100, 500, 1000, 2000]\n",
        "\n",
        "# Create an empty list to store results DataFrames\n",
        "results_dataframes = []\n",
        "\n",
        "# Loop through regularization types, lambda values, and iteration values\n",
        "for reg_type in [\"None\", \"L1\", \"L2\"]:\n",
        "    for lambda_reg in lambda_values:\n",
        "        for no_iterations in iteration_values:\n",
        "            # Initialize weights and bias\n",
        "            num_features = X_train.shape[1]\n",
        "            w, b = weightInitialization(num_features)\n",
        "\n",
        "            # Train the model with regularization\n",
        "            if reg_type == \"None\":\n",
        "                reg_type_display = \"No Regularization\"\n",
        "            elif reg_type == \"L1\":\n",
        "                reg_type_display = \"L1 Regularization\"\n",
        "            else:\n",
        "                reg_type_display = \"L2 Regularization\"\n",
        "\n",
        "            # Train the model with the current regularization type, lambda value, and iterations\n",
        "            coeff, _ = model_fit_with_regularization(w, b, X_train.T, y_train, reg_type, lambda_reg, no_iterations)\n",
        "\n",
        "            # Get optimized weights and bias\n",
        "            w_optimized = coeff[\"w\"]\n",
        "            b_optimized = coeff[\"b\"]\n",
        "\n",
        "            # Calculate test predictions\n",
        "            z = np.dot(w_optimized.T, X_test.T) + b_optimized\n",
        "            final_test_pred = sigmoid_activation(z)\n",
        "            final_test_pred = (final_test_pred > 0.5).astype(int)\n",
        "\n",
        "            # Calculate test accuracy\n",
        "            test_accuracy = accuracy_score(y_test.T, final_test_pred.T)\n",
        "\n",
        "            # Create a DataFrame for the current result\n",
        "            result_df = pd.DataFrame({\n",
        "                \"Regularization Type\": [reg_type_display],\n",
        "                \"Lambda\": [lambda_reg],\n",
        "                \"Iterations\": [no_iterations],\n",
        "                \"Test Accuracy\": [test_accuracy]\n",
        "            })\n",
        "\n",
        "            # Append the DataFrame to the list of results DataFrames\n",
        "            results_dataframes.append(result_df)\n",
        "\n",
        "\n",
        "# Concatenate all result DataFrames into a single results table\n",
        "results_table = pd.concat(results_dataframes, ignore_index=True)\n",
        "\n",
        "# Display the results table\n",
        "print(results_table)"
      ],
      "metadata": {
        "colab": {
          "base_uri": "https://localhost:8080/"
        },
        "id": "ECKjgEZlwMuD",
        "outputId": "b79739e8-d6e3-43d3-a265-a09799f6d498"
      },
      "execution_count": null,
      "outputs": [
        {
          "output_type": "stream",
          "name": "stdout",
          "text": [
            "   Regularization Type  Lambda  Iterations  Test Accuracy\n",
            "0    No Regularization   0.001         100       0.677524\n",
            "1    No Regularization   0.001         500       0.677524\n",
            "2    No Regularization   0.001        1000       0.677524\n",
            "3    No Regularization   0.001        2000       0.677524\n",
            "4    No Regularization   0.010         100       0.677524\n",
            "5    No Regularization   0.010         500       0.677524\n",
            "6    No Regularization   0.010        1000       0.677524\n",
            "7    No Regularization   0.010        2000       0.677524\n",
            "8    No Regularization   0.100         100       0.677524\n",
            "9    No Regularization   0.100         500       0.677524\n",
            "10   No Regularization   0.100        1000       0.677524\n",
            "11   No Regularization   0.100        2000       0.677524\n",
            "12   No Regularization   1.000         100       0.677524\n",
            "13   No Regularization   1.000         500       0.677524\n",
            "14   No Regularization   1.000        1000       0.677524\n",
            "15   No Regularization   1.000        2000       0.677524\n",
            "16   L1 Regularization   0.001         100       0.677524\n",
            "17   L1 Regularization   0.001         500       0.677524\n",
            "18   L1 Regularization   0.001        1000       0.677524\n",
            "19   L1 Regularization   0.001        2000       0.674267\n",
            "20   L1 Regularization   0.010         100       0.677524\n",
            "21   L1 Regularization   0.010         500       0.677524\n",
            "22   L1 Regularization   0.010        1000       0.677524\n",
            "23   L1 Regularization   0.010        2000       0.667752\n",
            "24   L1 Regularization   0.100         100       0.677524\n",
            "25   L1 Regularization   0.100         500       0.677524\n",
            "26   L1 Regularization   0.100        1000       0.677524\n",
            "27   L1 Regularization   0.100        2000       0.677524\n",
            "28   L1 Regularization   1.000         100       0.677524\n",
            "29   L1 Regularization   1.000         500       0.677524\n",
            "30   L1 Regularization   1.000        1000       0.677524\n",
            "31   L1 Regularization   1.000        2000       0.677524\n",
            "32   L2 Regularization   0.001         100       0.677524\n",
            "33   L2 Regularization   0.001         500       0.677524\n",
            "34   L2 Regularization   0.001        1000       0.677524\n",
            "35   L2 Regularization   0.001        2000       0.674267\n",
            "36   L2 Regularization   0.010         100       0.677524\n",
            "37   L2 Regularization   0.010         500       0.677524\n",
            "38   L2 Regularization   0.010        1000       0.677524\n",
            "39   L2 Regularization   0.010        2000       0.671010\n",
            "40   L2 Regularization   0.100         100       0.677524\n",
            "41   L2 Regularization   0.100         500       0.677524\n",
            "42   L2 Regularization   0.100        1000       0.677524\n",
            "43   L2 Regularization   0.100        2000       0.674267\n",
            "44   L2 Regularization   1.000         100       0.677524\n",
            "45   L2 Regularization   1.000         500       0.677524\n",
            "46   L2 Regularization   1.000        1000       0.677524\n",
            "47   L2 Regularization   1.000        2000       0.677524\n"
          ]
        }
      ]
    },
    {
      "cell_type": "markdown",
      "source": [
        "# Task 4.12\n",
        "\n",
        "Logistic Regression Class from sklearn library:\n",
        "\n",
        "Use the Logistic Regression model from the sklearn library and find the accuracy after training."
      ],
      "metadata": {
        "id": "7AW4iI1N1PvE"
      }
    },
    {
      "cell_type": "code",
      "source": [
        "from sklearn.linear_model import LogisticRegression\n",
        "\n",
        "# Split the data into training and testing sets\n",
        "X_train, X_test, y_train, y_test = train_test_split(X, y, test_size=0.3, random_state=42)\n",
        "\n",
        "# Create a Logistic Regression model\n",
        "logistic_regression = LogisticRegression()\n",
        "\n",
        "# Train the Logistic Regression model on the training data\n",
        "logistic_regression.fit(X_train, y_train)\n",
        "\n",
        "# Make predictions on the test data\n",
        "y_pred = logistic_regression.predict(X_test)\n",
        "\n",
        "# Evaluate the Logistic Regression model's accuracy\n",
        "accuracy = accuracy_score(y_test, y_pred)\n",
        "\n",
        "print(\"Logistic Regression Model Accuracy:\", accuracy * 100, \"%\")"
      ],
      "metadata": {
        "colab": {
          "base_uri": "https://localhost:8080/"
        },
        "id": "H7ad3VFD1WzG",
        "outputId": "2723c570-5cb5-46fe-cc89-e210d9691205"
      },
      "execution_count": null,
      "outputs": [
        {
          "output_type": "stream",
          "name": "stdout",
          "text": [
            "Logistic Regression Model Accuracy: 79.56989247311827 %\n"
          ]
        }
      ]
    },
    {
      "cell_type": "markdown",
      "source": [
        "# Task 4.13\n",
        "\n",
        "Decision Trees from sklearn library:\n",
        "\n",
        "Use the Decision Tree model from the sklearn library and find the accuracy after training."
      ],
      "metadata": {
        "id": "Z9PnQzYS1mva"
      }
    },
    {
      "cell_type": "code",
      "source": [
        "from sklearn.preprocessing import LabelEncoder\n",
        "from sklearn.tree import DecisionTreeClassifier\n",
        "\n",
        "# Split the data into training and testing sets\n",
        "X_train, X_test, y_train, y_test = train_test_split(X, y, test_size=0.3, random_state=42)\n",
        "\n",
        "# Create a Decision Tree model\n",
        "decision_tree_model = DecisionTreeClassifier(random_state=42)\n",
        "\n",
        "# Train the model on the training data\n",
        "decision_tree_model.fit(X_train, y_train)\n",
        "\n",
        "# Make predictions on the test data\n",
        "y_pred = decision_tree_model.predict(X_test)\n",
        "\n",
        "# Evaluate the model's accuracy\n",
        "accuracy = accuracy_score(y_test, y_pred)\n",
        "print(\"Decision Tree Accuracy:\", accuracy * 100, \"%\")\n"
      ],
      "metadata": {
        "colab": {
          "base_uri": "https://localhost:8080/"
        },
        "id": "gBzfdYNH1ris",
        "outputId": "c6be211d-8012-4878-c960-4a7eeda960fc"
      },
      "execution_count": null,
      "outputs": [
        {
          "output_type": "stream",
          "name": "stdout",
          "text": [
            "Decision Tree Accuracy: 80.64516129032258 %\n"
          ]
        }
      ]
    },
    {
      "cell_type": "markdown",
      "source": [
        "# Task 4.14\n",
        "\n",
        "Naive Bayes from sklearn library:\n",
        "\n",
        "Use the Naive Bayes model from the sklearn library and find the accuracy after\n",
        "training."
      ],
      "metadata": {
        "id": "S7HNYz2I2WOV"
      }
    },
    {
      "cell_type": "code",
      "source": [
        "from sklearn.naive_bayes import GaussianNB\n",
        "\n",
        "# Split the data into training and testing sets\n",
        "X_train, X_test, y_train, y_test = train_test_split(X, y, test_size=0.3, random_state=42)\n",
        "\n",
        "# Create a Gaussian Naive Bayes model\n",
        "naive_bayes_model = GaussianNB()\n",
        "\n",
        "# Train the model on the training data\n",
        "naive_bayes_model.fit(X_train, y_train)\n",
        "\n",
        "# Make predictions on the test data\n",
        "y_pred = naive_bayes_model.predict(X_test)\n",
        "\n",
        "# Evaluate the model's accuracy\n",
        "accuracy = accuracy_score(y_test, y_pred)\n",
        "print(\"Naive Bayes Accuracy:\", accuracy * 100, \"%\")"
      ],
      "metadata": {
        "colab": {
          "base_uri": "https://localhost:8080/"
        },
        "id": "kaGiqI7m2cHo",
        "outputId": "68434cbf-2106-4b82-8f4f-6044b2a12d31"
      },
      "execution_count": null,
      "outputs": [
        {
          "output_type": "stream",
          "name": "stdout",
          "text": [
            "Naive Bayes Accuracy: 79.56989247311827 %\n"
          ]
        }
      ]
    }
  ]
}